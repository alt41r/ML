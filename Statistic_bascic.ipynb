{
  "nbformat": 4,
  "nbformat_minor": 0,
  "metadata": {
    "colab": {
      "name": "Statistic bascic.ipynb",
      "provenance": [],
      "authorship_tag": "ABX9TyPC5PnlmNVwubovr1MBQQvv",
      "include_colab_link": true
    },
    "kernelspec": {
      "name": "python3",
      "display_name": "Python 3"
    },
    "language_info": {
      "name": "python"
    }
  },
  "cells": [
    {
      "cell_type": "markdown",
      "metadata": {
        "id": "view-in-github",
        "colab_type": "text"
      },
      "source": [
        "<a href=\"https://colab.research.google.com/github/alt41r/ML/blob/master/Statistic_bascic.ipynb\" target=\"_parent\"><img src=\"https://colab.research.google.com/assets/colab-badge.svg\" alt=\"Open In Colab\"/></a>"
      ]
    },
    {
      "cell_type": "markdown",
      "metadata": {
        "id": "MTGYicl3QoEl"
      },
      "source": [
        "Основным понятием в статистике является понятие среднего, однако в статистике используется несколько средних"
      ]
    },
    {
      "cell_type": "markdown",
      "metadata": {
        "id": "twonuOBGQ8_4"
      },
      "source": [
        "**Arifmetic mean**"
      ]
    },
    {
      "cell_type": "code",
      "metadata": {
        "colab": {
          "base_uri": "https://localhost:8080/"
        },
        "id": "LvAn36ORRHRd",
        "outputId": "a94671c2-2229-48ed-b66f-449fa8ca6089"
      },
      "source": [
        "a = [1, 5, 8, 4, 3, 9]\n",
        "a_mean = sum(a)/len(a)\n",
        "print(a_mean)"
      ],
      "execution_count": 149,
      "outputs": [
        {
          "output_type": "stream",
          "text": [
            "5.0\n"
          ],
          "name": "stdout"
        }
      ]
    },
    {
      "cell_type": "markdown",
      "metadata": {
        "id": "KTjtvaOeRveJ"
      },
      "source": [
        "**Mode**"
      ]
    },
    {
      "cell_type": "markdown",
      "metadata": {
        "id": "uucYw0dISUIE"
      },
      "source": [
        "Мо́да — значение во множестве наблюдений, которое встречается наиболее часто."
      ]
    },
    {
      "cell_type": "code",
      "metadata": {
        "colab": {
          "base_uri": "https://localhost:8080/"
        },
        "id": "tEyEyhcqSW0U",
        "outputId": "05be248a-5ce1-4ef2-e513-7ad5293fd7a6"
      },
      "source": [
        "def mode(a):\n",
        "  sum_common = 0\n",
        "  max_sum = 2\n",
        "  true_k = []\n",
        "  for i in range(len(a)):\n",
        "    k = a [i]\n",
        "    newarg=a[i:]\n",
        "    for j in range(len(newarg)):\n",
        "      if k == newarg[j]:\n",
        "        sum_common+=1\n",
        "        temp_k = k\n",
        "    temp_sum = sum_common    \n",
        "    if temp_sum >= max_sum:\n",
        "      max_sum = temp_sum\n",
        "      l = temp_k\n",
        "      true_k.append(l)      \n",
        "    sum_common = 0\n",
        "  result = true_k            \n",
        "  return result\n",
        "mode(a)"
      ],
      "execution_count": 150,
      "outputs": [
        {
          "output_type": "execute_result",
          "data": {
            "text/plain": [
              "[]"
            ]
          },
          "metadata": {
            "tags": []
          },
          "execution_count": 150
        }
      ]
    },
    {
      "cell_type": "markdown",
      "metadata": {
        "id": "i97kZSfkgecx"
      },
      "source": [
        "**Median**"
      ]
    },
    {
      "cell_type": "markdown",
      "metadata": {
        "id": "ze9wv9nLg9v4"
      },
      "source": [
        "Медиа́на набора чисел — число, которое находится в середине этого набора, если его упорядочить по возрастанию, то есть такое число, что половина из элементов набора не меньше него, а другая половина не больше."
      ]
    },
    {
      "cell_type": "code",
      "metadata": {
        "colab": {
          "base_uri": "https://localhost:8080/"
        },
        "id": "s1YN3bRdhBGL",
        "outputId": "184629c3-68a7-454f-8942-aa350a3197b7"
      },
      "source": [
        "def Median(a):\n",
        "  j=2\n",
        "  while(j<1000):\n",
        "    for i in range(len(a)-1):\n",
        "      if a[i]>a[i+1]:\n",
        "        temp = a[i]\n",
        "        a[i]=a[i+1]\n",
        "        a[i+1]=temp\n",
        "    j+=1 \n",
        "  if (len(a)/2) % 2 == 0:\n",
        "    result = a[int(len(a)/2)]\n",
        "  else:\n",
        "    print(len(a)/2)\n",
        "    result = (a[int((len(a)/2)+0.5)] + a[int((len(a)/2)-0.5)])/2\n",
        "  return result\n",
        "print(Median(a))\n"
      ],
      "execution_count": 151,
      "outputs": [
        {
          "output_type": "stream",
          "text": [
            "3.0\n",
            "4.5\n"
          ],
          "name": "stdout"
        }
      ]
    },
    {
      "cell_type": "code",
      "metadata": {
        "id": "Uiq4b_cQl85r"
      },
      "source": [
        ""
      ],
      "execution_count": null,
      "outputs": []
    }
  ]
}