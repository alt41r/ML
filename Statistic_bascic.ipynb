{
  "nbformat": 4,
  "nbformat_minor": 0,
  "metadata": {
    "colab": {
      "name": "Statistic bascic.ipynb",
      "provenance": [],
      "authorship_tag": "ABX9TyMx+DeVv+lCZZ9ncp7T5bQC"
    },
    "kernelspec": {
      "name": "python3",
      "display_name": "Python 3"
    },
    "language_info": {
      "name": "python"
    }
  },
  "cells": [
    {
      "cell_type": "markdown",
      "metadata": {
        "id": "MTGYicl3QoEl"
      },
      "source": [
        "Основным понятием в статистике является понятие среднего, однако в статистике используется несколько средних"
      ]
    },
    {
      "cell_type": "markdown",
      "metadata": {
        "id": "twonuOBGQ8_4"
      },
      "source": [
        "**Arifmetic mean**"
      ]
    },
    {
      "cell_type": "code",
      "metadata": {
        "colab": {
          "base_uri": "https://localhost:8080/"
        },
        "id": "LvAn36ORRHRd",
        "outputId": "7602ea1b-a9bf-425b-e2bc-751b9a74d067"
      },
      "source": [
        "a = [3,1,2,5,6,6,6,4,1,2,1,2]\n",
        "a_mean = sum(a)/len(a)\n",
        "print(a_mean)"
      ],
      "execution_count": 137,
      "outputs": [
        {
          "output_type": "stream",
          "text": [
            "3.25\n"
          ],
          "name": "stdout"
        }
      ]
    },
    {
      "cell_type": "markdown",
      "metadata": {
        "id": "KTjtvaOeRveJ"
      },
      "source": [
        "**Mode**"
      ]
    },
    {
      "cell_type": "markdown",
      "metadata": {
        "id": "uucYw0dISUIE"
      },
      "source": [
        "Мо́да — значение во множестве наблюдений, которое встречается наиболее часто."
      ]
    },
    {
      "cell_type": "code",
      "metadata": {
        "colab": {
          "base_uri": "https://localhost:8080/"
        },
        "id": "tEyEyhcqSW0U",
        "outputId": "33ab583d-eb5d-427f-9139-e4400df47325"
      },
      "source": [
        "def mode(a):\n",
        "  sum_common = 0\n",
        "  max_sum = 2\n",
        "  true_k = []\n",
        "  for i in range(len(a)):\n",
        "    k = a [i]\n",
        "    newarg=a[i:]\n",
        "    for j in range(len(newarg)):\n",
        "      if k == newarg[j]:\n",
        "        sum_common+=1\n",
        "        temp_k = k\n",
        "    temp_sum = sum_common    \n",
        "    if temp_sum >= max_sum:\n",
        "      max_sum = temp_sum\n",
        "      l = temp_k\n",
        "      true_k.append(l)      \n",
        "    sum_common = 0\n",
        "  result = true_k            \n",
        "  return result\n",
        "mode(a)"
      ],
      "execution_count": 124,
      "outputs": [
        {
          "output_type": "execute_result",
          "data": {
            "text/plain": [
              "[1, 6]"
            ]
          },
          "metadata": {
            "tags": []
          },
          "execution_count": 124
        }
      ]
    },
    {
      "cell_type": "markdown",
      "metadata": {
        "id": "i97kZSfkgecx"
      },
      "source": [
        "**Median**"
      ]
    },
    {
      "cell_type": "markdown",
      "metadata": {
        "id": "ze9wv9nLg9v4"
      },
      "source": [
        "Медиа́на набора чисел — число, которое находится в середине этого набора, если его упорядочить по возрастанию, то есть такое число, что половина из элементов набора не меньше него, а другая половина не больше."
      ]
    },
    {
      "cell_type": "code",
      "metadata": {
        "colab": {
          "base_uri": "https://localhost:8080/"
        },
        "id": "s1YN3bRdhBGL",
        "outputId": "1d9ddac7-3ee7-4787-ad6e-ed05407bce90"
      },
      "source": [
        "def Median(a):\n",
        "  j=2\n",
        "  while(j<10):\n",
        "    for i in range(len(a)-1):\n",
        "      if a[i]>a[i+1]:\n",
        "        temp = a[i]\n",
        "        a[i]=a[i+1]\n",
        "        a[i+1]=temp\n",
        "    j+=1 \n",
        "  if (len(a)/2) % 2 == 0:\n",
        "    result = a[int(len(a)/2)]\n",
        "  else:\n",
        "    result = [a[int((len(a)/2)+0.5)],a[int((len(a)/2)-0.5)]]\n",
        "  return result\n",
        "print(Median(a))\n"
      ],
      "execution_count": 134,
      "outputs": [
        {
          "output_type": "stream",
          "text": [
            "3\n"
          ],
          "name": "stdout"
        }
      ]
    },
    {
      "cell_type": "code",
      "metadata": {
        "id": "Uiq4b_cQl85r"
      },
      "source": [
        ""
      ],
      "execution_count": null,
      "outputs": []
    }
  ]
}