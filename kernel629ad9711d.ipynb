{
 "cells": [
  {
   "cell_type": "code",
   "execution_count": 1,
   "metadata": {
    "_cell_guid": "b1076dfc-b9ad-4769-8c92-a6c4dae69d19",
    "_uuid": "8f2839f25d086af736a60e9eeb907d3b93b6e0e5",
    "collapsed": true
   },
   "outputs": [
    {
     "name": "stdout",
     "output_type": "stream",
     "text": [
      "/kaggle/input/classification/Dataset_for_Classification.csv\n"
     ]
    }
   ],
   "source": [
    "# This Python 3 environment comes with many helpful analytics libraries installed\n",
    "# It is defined by the kaggle/python docker image: https://github.com/kaggle/docker-python\n",
    "# For example, here's several helpful packages to load in \n",
    "\n",
    "import numpy as np # linear algebra\n",
    "import pandas as pd # data processing, CSV file I/O (e.g. pd.read_csv)\n",
    "\n",
    "# Input data files are available in the \"../input/\" directory.\n",
    "# For example, running this (by clicking run or pressing Shift+Enter) will list all files under the input directory\n",
    "\n",
    "import os\n",
    "for dirname, _, filenames in os.walk('/kaggle/input'):\n",
    "    for filename in filenames:\n",
    "        print(os.path.join(dirname, filename))\n",
    "\n",
    "# Any results you write to the current directory are saved as output."
   ]
  },
  {
   "cell_type": "markdown",
   "metadata": {},
   "source": [
    "*Start*\n",
    "\n",
    "Set X,y"
   ]
  },
  {
   "cell_type": "code",
   "execution_count": 2,
   "metadata": {
    "_cell_guid": "79c7e3d0-c299-4dcb-8224-4455121ee9b0",
    "_uuid": "d629ff2d2480ee46fbb7e2d37f6b5fab8052498a"
   },
   "outputs": [],
   "source": [
    "travaller_data_path = os.path.join(dirname,filename)\n",
    "travaller_data = pd.read_csv(travaller_data_path)\n",
    "y = travaller_data.Attrition\n",
    "travaller_data_features = ['Age','BusinessTravel','DailyRate','Department','DistanceFromHome','Education']\n",
    "X = travaller_data[travaller_data_features]\n"
   ]
  },
  {
   "cell_type": "markdown",
   "metadata": {},
   "source": [
    "**We need to split our data for have 2 datasets.One for training and other to validation our model**"
   ]
  },
  {
   "cell_type": "code",
   "execution_count": 3,
   "metadata": {},
   "outputs": [],
   "source": [
    "from sklearn.model_selection import train_test_split\n",
    "train_X, val_X, train_y,val_y = train_test_split(X,y,random_state = 0)"
   ]
  },
  {
   "cell_type": "markdown",
   "metadata": {},
   "source": [
    "*Wow*\n",
    "**Our data is not a number**\n",
    "\n",
    "For solve this, we need use one_hot_encoder\n"
   ]
  },
  {
   "cell_type": "code",
   "execution_count": 4,
   "metadata": {},
   "outputs": [],
   "source": [
    "one_hot_encoded_train_X = pd.get_dummies(train_X)\n",
    "one_hot_encoded_train_y = pd.get_dummies(train_y)\n",
    "one_hot_encoded_val_X = pd.get_dummies(val_X)\n",
    "one_hot_encoded_val_y = pd.get_dummies(val_y)\n"
   ]
  },
  {
   "cell_type": "code",
   "execution_count": 5,
   "metadata": {
    "collapsed": true
   },
   "outputs": [
    {
     "data": {
      "text/plain": [
       "DecisionTreeRegressor(ccp_alpha=0.0, criterion='mse', max_depth=None,\n",
       "                      max_features=None, max_leaf_nodes=None,\n",
       "                      min_impurity_decrease=0.0, min_impurity_split=None,\n",
       "                      min_samples_leaf=1, min_samples_split=2,\n",
       "                      min_weight_fraction_leaf=0.0, presort='deprecated',\n",
       "                      random_state=1, splitter='best')"
      ]
     },
     "execution_count": 5,
     "metadata": {},
     "output_type": "execute_result"
    }
   ],
   "source": [
    "from sklearn.tree import DecisionTreeRegressor\n",
    "my_model = DecisionTreeRegressor(random_state = 1)\n",
    "my_model.fit(one_hot_encoded_train_X,one_hot_encoded_train_y)"
   ]
  },
  {
   "cell_type": "code",
   "execution_count": 6,
   "metadata": {},
   "outputs": [
    {
     "name": "stdout",
     "output_type": "stream",
     "text": [
      "0.2717391304347826\n"
     ]
    }
   ],
   "source": [
    "from sklearn.metrics import mean_absolute_error\n",
    "val_pred = my_model.predict(one_hot_encoded_val_X)\n",
    "print(mean_absolute_error(one_hot_encoded_val_y,val_pred))"
   ]
  },
  {
   "cell_type": "code",
   "execution_count": 7,
   "metadata": {},
   "outputs": [],
   "source": [
    "def get_mae(max_leaf_nodes,one_hot_encoded_train_X,one_hot_encoded_val_X,one_hot_encoded_train_y, one_hot_encoded_val_y):\n",
    "    model = DecisionTreeRegressor(max_leaf_nodes=max_leaf_nodes, random_state=0)\n",
    "    model.fit(one_hot_encoded_train_X, one_hot_encoded_train_y)\n",
    "    preds_val = model.predict(one_hot_encoded_val_X)\n",
    "    mae = mean_absolute_error(one_hot_encoded_val_y, preds_val)\n",
    "    return(mae)"
   ]
  },
  {
   "cell_type": "markdown",
   "metadata": {},
   "source": []
  },
  {
   "cell_type": "code",
   "execution_count": 8,
   "metadata": {},
   "outputs": [
    {
     "name": "stdout",
     "output_type": "stream",
     "text": [
      "Max leaf nodes: 2  \t\t Mean Absolute Error:  0\n",
      "Max leaf nodes: 12  \t\t Mean Absolute Error:  0\n",
      "Max leaf nodes: 22  \t\t Mean Absolute Error:  0\n",
      "Max leaf nodes: 32  \t\t Mean Absolute Error:  0\n",
      "Max leaf nodes: 42  \t\t Mean Absolute Error:  0\n",
      "Max leaf nodes: 52  \t\t Mean Absolute Error:  0\n",
      "Max leaf nodes: 62  \t\t Mean Absolute Error:  0\n",
      "Max leaf nodes: 72  \t\t Mean Absolute Error:  0\n",
      "Max leaf nodes: 82  \t\t Mean Absolute Error:  0\n",
      "Max leaf nodes: 92  \t\t Mean Absolute Error:  0\n"
     ]
    }
   ],
   "source": [
    "for max_leaf_nodes in range(2,100,10):\n",
    "    my_mae = get_mae(max_leaf_nodes,one_hot_encoded_train_X,one_hot_encoded_val_X,one_hot_encoded_train_y, one_hot_encoded_val_y)\n",
    "    print(\"Max leaf nodes: %d  \\t\\t Mean Absolute Error:  %d\" %(max_leaf_nodes, my_mae))"
   ]
  },
  {
   "cell_type": "markdown",
   "metadata": {},
   "source": [
    "**Mean Abloutle error is zero!**"
   ]
  },
  {
   "cell_type": "code",
   "execution_count": null,
   "metadata": {},
   "outputs": [],
   "source": []
  }
 ],
 "metadata": {
  "kernelspec": {
   "display_name": "Python 3",
   "language": "python",
   "name": "python3"
  },
  "language_info": {
   "codemirror_mode": {
    "name": "ipython",
    "version": 3
   },
   "file_extension": ".py",
   "mimetype": "text/x-python",
   "name": "python",
   "nbconvert_exporter": "python",
   "pygments_lexer": "ipython3",
   "version": "3.6.6"
  }
 },
 "nbformat": 4,
 "nbformat_minor": 4
}
