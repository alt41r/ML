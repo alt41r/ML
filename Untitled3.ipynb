{
  "nbformat": 4,
  "nbformat_minor": 0,
  "metadata": {
    "colab": {
      "name": "Untitled3.ipynb",
      "provenance": [],
      "authorship_tag": "ABX9TyNYeutLzE2JGsr0iTCZ9rWa",
      "include_colab_link": true
    },
    "kernelspec": {
      "name": "python3",
      "display_name": "Python 3"
    },
    "language_info": {
      "name": "python"
    }
  },
  "cells": [
    {
      "cell_type": "markdown",
      "metadata": {
        "id": "view-in-github",
        "colab_type": "text"
      },
      "source": [
        "<a href=\"https://colab.research.google.com/github/alt41r/ML/blob/master/Untitled3.ipynb\" target=\"_parent\"><img src=\"https://colab.research.google.com/assets/colab-badge.svg\" alt=\"Open In Colab\"/></a>"
      ]
    },
    {
      "cell_type": "code",
      "metadata": {
        "id": "ikM3SDgBZCkP"
      },
      "source": [
        "import numpy as np\n",
        "import matplotlib.pyplot as plt\n",
        "%matplotlib inline "
      ],
      "execution_count": null,
      "outputs": []
    },
    {
      "cell_type": "code",
      "metadata": {
        "id": "QMpbPiWSdcj4"
      },
      "source": [
        "\n",
        "from scipy.special import expit\n",
        "class neuralNetwork:\n",
        "\n",
        "  def __init__(self,inputnodes,hiddennodes,outputnodes,learningrate):\n",
        "\n",
        "    self.inodes = inputnodes\n",
        "    self.hnodes = hiddennodes\n",
        "    self.onodes = outputnodes\n",
        "\n",
        "    self.lr = learningrate\n",
        "\n",
        "    self.wih = np.random.normal(0.0,pow(self.hnodes,-0.5),(self.hnodes,self.inodes))\n",
        "    self.who = np.random.normal(0.0,pow(self.onodes,-0.5),(self.onodes,self.hnodes))\n",
        "\n",
        "    self.activation_func = lambda x: expit(x)  \n",
        "    pass\n",
        "  \n",
        "  def train(self, inputs_list, targets_list):\n",
        "\n",
        "    inputs = np.array(inputs_list,ndmin=2).T\n",
        "    targets = np.array(targets_list,ndmin=2).T\n",
        "\n",
        "    hidden_inputs = np.dot(self.wih,inputs)\n",
        "    hidden_outputs = self.activation_func(hidden_inputs)\n",
        "\n",
        "    final_inputs = np.dot(self.who,hidden_outputs)\n",
        "    final_outputs = self.activation_func(final_inputs)\n",
        "\n",
        "    output_errors = targets - final_outputs\n",
        "    hidden_errors = np.dot(self.who.T, output_errors)\n",
        "\n",
        "    self.who += self.lr*np.dot((output_errors*final_outputs*(1-final_outputs)),np.transpose(hidden_outputs))\n",
        "    self.wih += self.lr*np.dot((hidden_errors*hidden_outputs*(1-hidden_outputs)),np.transpose(inputs))\n",
        "\n",
        "    pass\n",
        "\n",
        "  def query(self, inputs_list):\n",
        "\n",
        "    inputs = np.array(inputs_list,ndmin=2).T\n",
        "\n",
        "    hidden_inputs = np.dot(self.wih, inputs)\n",
        "    hidden_outputs = self.activation_func(hidden_inputs)\n",
        "\n",
        "    final_inputs = np.dot(self.who, hidden_outputs)\n",
        "    final_outputs = self.activation_func(final_inputs)\n",
        "\n",
        "    return final_outputs"
      ],
      "execution_count": null,
      "outputs": []
    },
    {
      "cell_type": "code",
      "metadata": {
        "id": "qf9M0jOTeOzj"
      },
      "source": [
        "input_nodes=784\n",
        "hidden_nodes = 200\n",
        "output_nodes = 10\n",
        "learning_rate =0.2\n",
        "n = neuralNetwork(input_nodes,hidden_nodes,output_nodes,learning_rate)"
      ],
      "execution_count": null,
      "outputs": []
    },
    {
      "cell_type": "code",
      "metadata": {
        "id": "jl3rvhAb4Bf-"
      },
      "source": [
        "training_data_file = open('mnist_train.csv', 'r') \n",
        "training_data_list = training_data_file.readlines () \n",
        "training_data_file.close()"
      ],
      "execution_count": null,
      "outputs": []
    },
    {
      "cell_type": "code",
      "metadata": {
        "id": "_QW4q0Ck4Wzy"
      },
      "source": [
        "epochs = 2\n",
        "for e in range(epochs):\n",
        "  for record in training_data_list:\n",
        "      all_values=record.split(',')\n",
        "      inputs = (np.asfarray(all_values[1:])/ 255.0 * 0.99) + 0.01\n",
        "      targets = np.zeros(output_nodes) + 0.01\n",
        "      targets[int(all_values[0])] =0.99\n",
        "      n.train(inputs, targets)\n",
        "      pass\n",
        "  pass"
      ],
      "execution_count": null,
      "outputs": []
    },
    {
      "cell_type": "code",
      "metadata": {
        "id": "uF0Av_4J-5tJ"
      },
      "source": [
        "test_data_file = open(\"mnist_test.csv\", 'r') \n",
        "test_data_list = test_data_file.readlines() \n",
        "test_data_file.closed\n",
        "\n",
        "all_values = test_data_list[0].split(',')\n"
      ],
      "execution_count": null,
      "outputs": []
    },
    {
      "cell_type": "code",
      "metadata": {
        "colab": {
          "base_uri": "https://localhost:8080/"
        },
        "id": "ggqj5vliClXE",
        "outputId": "fd662dd8-ac9f-471f-a6e1-56fff4e0ed07"
      },
      "source": [
        "scorecard = []\n",
        "\n",
        "for record in test_data_list:\n",
        "\n",
        "  all_values=record.split(',')\n",
        "  correct_label = int(all_values[0])\n",
        "\n",
        "  inputs = (np.asfarray(all_values[1:])/255.0*0.99)+0.01\n",
        "  outputs=n.query(inputs)\n",
        "  label = np.argmax(outputs)\n",
        "\n",
        "  if (label == correct_label):\n",
        "    scorecard.append(1)\n",
        "  else:\n",
        "    scorecard.append(0)\n",
        "    pass\n",
        "  pass\n",
        "scorecard_array = np.asarray(scorecard)\n",
        "print (\"performance = \", scorecard_array.sum() / scorecard_array.size)"
      ],
      "execution_count": null,
      "outputs": [
        {
          "output_type": "stream",
          "text": [
            "performance =  0.9663\n"
          ],
          "name": "stdout"
        }
      ]
    }
  ]
}